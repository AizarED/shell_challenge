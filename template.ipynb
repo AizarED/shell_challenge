{
 "cells": [
  {
   "cell_type": "markdown",
   "metadata": {},
   "source": [
    "# Compressor Analytics Dataset\n",
    "\n",
    "Below are a few things to get you started with the Compressor Analytics dataset for AIHack! For more information see [here](https://drive.google.com/file/d/1ojYVHpabfkNz45nQqQLenyoaQbCmWdo4/view?usp=sharing)."
   ]
  },
  {
   "cell_type": "code",
   "execution_count": null,
   "metadata": {},
   "outputs": [],
   "source": [
    "# Download data - please only run this once\n",
    "import urllib.request\n",
    "import zipfile\n",
    "import os\n",
    "\n",
    "print(\"Starting download ...\")\n",
    "urls = [\n",
    "    \"https://github.com/aihack20/shell_challenge/releases/download/data/clean_dataset.zip\",\n",
    "    \"https://github.com/aihack20/shell_challenge/releases/download/data/raw_dataset.zip\",\n",
    "]\n",
    "os.makedirs(\"shell_data\", exist_ok=True)\n",
    "for url in urls:\n",
    "    with urllib.request.urlopen(url) as src:\n",
    "        with open(\"tmp.zip\", \"wb\") as dest:\n",
    "            dest.write(src.read())\n",
    "    print(\"Unpacking archive ...\")\n",
    "    with zipfile.ZipFile(\"tmp.zip\") as f:\n",
    "        f.extractall(\"shell_data\")\n",
    "print(\"Done!\")"
   ]
  },
  {
   "cell_type": "code",
   "execution_count": null,
   "metadata": {},
   "outputs": [],
   "source": [
    "# Run this ONLY IF YOU USE GOOGLE COLAB\n",
    "from google.colab import drive\n",
    "\n",
    "google_drive_dir = # YOUR DIRECTORY HERE\n",
    "\n",
    "drive.mount(\"/content/drive\")\n",
    "directory = \"working_dir\"\n",
    "if not os.path.exists(directory):\n",
    "  os.symlink(os.path.join(\"drive\", \"My Drive\", google_drive_dir), directory)"
   ]
  },
  {
   "cell_type": "code",
   "execution_count": null,
   "metadata": {},
   "outputs": [],
   "source": [
    "%pip install pandas matplotlib"
   ]
  },
  {
   "cell_type": "code",
   "execution_count": null,
   "metadata": {},
   "outputs": [],
   "source": [
    "import pandas as pd\n",
    "from matplotlib import pyplot as plt"
   ]
  },
  {
   "cell_type": "code",
   "execution_count": null,
   "metadata": {},
   "outputs": [],
   "source": [
    "# Load the data (will take a short while)\n",
    "clean_data = pd.read_csv(\"shell_data/clean_dataset.csv\")\n",
    "raw_data = pd.read_csv(\"shell_data/raw_dataset.csv\")"
   ]
  },
  {
   "cell_type": "markdown",
   "metadata": {},
   "source": [
    "## Your Hack ..."
   ]
  },
  {
   "cell_type": "code",
   "execution_count": null,
   "metadata": {},
   "outputs": [],
   "source": [
    "clean_data"
   ]
  },
  {
   "cell_type": "code",
   "execution_count": null,
   "metadata": {},
   "outputs": [],
   "source": [
    "# todo: make something awesome ..."
   ]
  }
 ],
 "metadata": {
  "kernelspec": {
   "display_name": "Python 3",
   "language": "python",
   "name": "python3"
  },
  "language_info": {
   "codemirror_mode": {
    "name": "ipython",
    "version": 3
   },
   "file_extension": ".py",
   "mimetype": "text/x-python",
   "name": "python",
   "nbconvert_exporter": "python",
   "pygments_lexer": "ipython3",
   "version": "3.7.6"
  }
 },
 "nbformat": 4,
 "nbformat_minor": 4
}
